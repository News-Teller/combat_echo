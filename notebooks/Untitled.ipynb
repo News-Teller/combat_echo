{
 "cells": [
  {
   "cell_type": "code",
   "execution_count": 1,
   "id": "welcome-opinion",
   "metadata": {},
   "outputs": [],
   "source": [
    "import pandas as pd\n",
    "import numpy as np\n",
    "import pickle"
   ]
  },
  {
   "cell_type": "code",
   "execution_count": 2,
   "id": "muslim-receipt",
   "metadata": {},
   "outputs": [],
   "source": [
    "%config Completer.use_jedi = False"
   ]
  },
  {
   "cell_type": "code",
   "execution_count": 3,
   "id": "rocky-paste",
   "metadata": {},
   "outputs": [
    {
     "name": "stdout",
     "output_type": "stream",
     "text": [
      "Untitled.ipynb \u001b[1m\u001b[36m__pycache__\u001b[m\u001b[m    train.txt\n"
     ]
    }
   ],
   "source": [
    "!ls"
   ]
  },
  {
   "cell_type": "code",
   "execution_count": 5,
   "id": "soviet-annual",
   "metadata": {},
   "outputs": [],
   "source": [
    "df = pd.read_pickle(\"../resources/cleaned_data_fasttext.pickle\")"
   ]
  },
  {
   "cell_type": "code",
   "execution_count": 7,
   "id": "supposed-begin",
   "metadata": {},
   "outputs": [
    {
     "data": {
      "text/plain": [
       "numpy.ndarray"
      ]
     },
     "execution_count": 7,
     "metadata": {},
     "output_type": "execute_result"
    }
   ],
   "source": [
    "type(df[\"fasttext_embedding\"][0])"
   ]
  },
  {
   "cell_type": "code",
   "execution_count": 8,
   "id": "designing-addiction",
   "metadata": {},
   "outputs": [
    {
     "data": {
      "text/html": [
       "<div>\n",
       "<style scoped>\n",
       "    .dataframe tbody tr th:only-of-type {\n",
       "        vertical-align: middle;\n",
       "    }\n",
       "\n",
       "    .dataframe tbody tr th {\n",
       "        vertical-align: top;\n",
       "    }\n",
       "\n",
       "    .dataframe thead th {\n",
       "        text-align: right;\n",
       "    }\n",
       "</style>\n",
       "<table border=\"1\" class=\"dataframe\">\n",
       "  <thead>\n",
       "    <tr style=\"text-align: right;\">\n",
       "      <th></th>\n",
       "      <th>url</th>\n",
       "      <th>cleaned_important_text</th>\n",
       "      <th>embedding</th>\n",
       "      <th>publish_datetime</th>\n",
       "      <th>polarity</th>\n",
       "      <th>subjectivity</th>\n",
       "      <th>fasttext_embedding</th>\n",
       "    </tr>\n",
       "  </thead>\n",
       "  <tbody>\n",
       "    <tr>\n",
       "      <th>0</th>\n",
       "      <td>https://www.rt.com/usa/520711-whitmer-aide-spr...</td>\n",
       "      <td>michigan governor office dismiss partisan repo...</td>\n",
       "      <td>[-0.08033423870801926, 0.10895209014415741, 0....</td>\n",
       "      <td>2021-04-11T11:20:00.000Z</td>\n",
       "      <td>Positive</td>\n",
       "      <td>Neutral</td>\n",
       "      <td>[-0.26263347, 0.2678325, -0.26754516, 0.017797...</td>\n",
       "    </tr>\n",
       "    <tr>\n",
       "      <th>1</th>\n",
       "      <td>https://thenextweb.com/news/should-countries-e...</td>\n",
       "      <td>country respond cyberattack physical force ind...</td>\n",
       "      <td>[-0.3013652265071869, 0.23083247244358063, 0.1...</td>\n",
       "      <td>2021-04-11T11:51:13.000Z</td>\n",
       "      <td>Neutral</td>\n",
       "      <td>Very objective</td>\n",
       "      <td>[-0.25623396, 0.27985862, -0.2651556, 0.014549...</td>\n",
       "    </tr>\n",
       "    <tr>\n",
       "      <th>2</th>\n",
       "      <td>https://www.cnet.com/news/nasa-stares-into-dar...</td>\n",
       "      <td>nasa discover dark freaky pit mars stare shado...</td>\n",
       "      <td>[0.09577909111976624, -0.20507732033729553, 0....</td>\n",
       "      <td>2021-04-11T01:48:43.000Z</td>\n",
       "      <td>Neutral</td>\n",
       "      <td>Neutral</td>\n",
       "      <td>[-0.23300028, 0.23795356, -0.23213726, 0.01760...</td>\n",
       "    </tr>\n",
       "    <tr>\n",
       "      <th>3</th>\n",
       "      <td>https://abc7ny.com/10506004/?ex_cid=TA_WABC_TW...</td>\n",
       "      <td>second weekly pop performance hold broadway th...</td>\n",
       "      <td>[0.22969390451908112, 0.10592672973871231, 0.1...</td>\n",
       "      <td>2021-04-11T00:05:06.000Z</td>\n",
       "      <td>Neutral</td>\n",
       "      <td>Very objective</td>\n",
       "      <td>[-0.25241378, 0.26854432, -0.25793087, 0.01818...</td>\n",
       "    </tr>\n",
       "    <tr>\n",
       "      <th>4</th>\n",
       "      <td>https://thenextweb.com/news/perfecting-self-dr...</td>\n",
       "      <td>go perfect self drive car independent news com...</td>\n",
       "      <td>[-0.1521698385477066, 0.22504617273807526, -0....</td>\n",
       "      <td>2021-04-11T09:46:12.000Z</td>\n",
       "      <td>Very positive</td>\n",
       "      <td>Very subjective</td>\n",
       "      <td>[-0.2680339, 0.2807403, -0.27258533, 0.0205178...</td>\n",
       "    </tr>\n",
       "  </tbody>\n",
       "</table>\n",
       "</div>"
      ],
      "text/plain": [
       "                                                 url  \\\n",
       "0  https://www.rt.com/usa/520711-whitmer-aide-spr...   \n",
       "1  https://thenextweb.com/news/should-countries-e...   \n",
       "2  https://www.cnet.com/news/nasa-stares-into-dar...   \n",
       "3  https://abc7ny.com/10506004/?ex_cid=TA_WABC_TW...   \n",
       "4  https://thenextweb.com/news/perfecting-self-dr...   \n",
       "\n",
       "                              cleaned_important_text  \\\n",
       "0  michigan governor office dismiss partisan repo...   \n",
       "1  country respond cyberattack physical force ind...   \n",
       "2  nasa discover dark freaky pit mars stare shado...   \n",
       "3  second weekly pop performance hold broadway th...   \n",
       "4  go perfect self drive car independent news com...   \n",
       "\n",
       "                                           embedding  \\\n",
       "0  [-0.08033423870801926, 0.10895209014415741, 0....   \n",
       "1  [-0.3013652265071869, 0.23083247244358063, 0.1...   \n",
       "2  [0.09577909111976624, -0.20507732033729553, 0....   \n",
       "3  [0.22969390451908112, 0.10592672973871231, 0.1...   \n",
       "4  [-0.1521698385477066, 0.22504617273807526, -0....   \n",
       "\n",
       "           publish_datetime       polarity     subjectivity  \\\n",
       "0  2021-04-11T11:20:00.000Z       Positive          Neutral   \n",
       "1  2021-04-11T11:51:13.000Z        Neutral   Very objective   \n",
       "2  2021-04-11T01:48:43.000Z        Neutral          Neutral   \n",
       "3  2021-04-11T00:05:06.000Z        Neutral   Very objective   \n",
       "4  2021-04-11T09:46:12.000Z  Very positive  Very subjective   \n",
       "\n",
       "                                  fasttext_embedding  \n",
       "0  [-0.26263347, 0.2678325, -0.26754516, 0.017797...  \n",
       "1  [-0.25623396, 0.27985862, -0.2651556, 0.014549...  \n",
       "2  [-0.23300028, 0.23795356, -0.23213726, 0.01760...  \n",
       "3  [-0.25241378, 0.26854432, -0.25793087, 0.01818...  \n",
       "4  [-0.2680339, 0.2807403, -0.27258533, 0.0205178...  "
      ]
     },
     "execution_count": 8,
     "metadata": {},
     "output_type": "execute_result"
    }
   ],
   "source": [
    "df.head()"
   ]
  },
  {
   "cell_type": "code",
   "execution_count": 9,
   "id": "compound-romania",
   "metadata": {},
   "outputs": [],
   "source": [
    "import fasttext"
   ]
  },
  {
   "cell_type": "code",
   "execution_count": 10,
   "id": "conscious-training",
   "metadata": {},
   "outputs": [
    {
     "name": "stderr",
     "output_type": "stream",
     "text": [
      "Warning : `load_model` does not return WordVectorModel or SupervisedModel any more, but a `FastText` object which is very similar.\n"
     ]
    }
   ],
   "source": [
    "model = fasttext.load_model(\"../resources/model.bin\")"
   ]
  },
  {
   "cell_type": "code",
   "execution_count": 18,
   "id": "chicken-choir",
   "metadata": {},
   "outputs": [
    {
     "data": {
      "text/plain": [
       "1950"
      ]
     },
     "execution_count": 18,
     "metadata": {},
     "output_type": "execute_result"
    }
   ],
   "source": [
    "model.get_labels(include_freq=True)"
   ]
  },
  {
   "cell_type": "code",
   "execution_count": 40,
   "id": "still-hello",
   "metadata": {},
   "outputs": [
    {
     "data": {
      "text/plain": [
       "[(0.9998489022254944, 'urban'),\n",
       " (0.9998421669006348, 'iran'),\n",
       " (0.9998250603675842, 'indian'),\n",
       " (0.999823272228241, 'japan'),\n",
       " (0.999803900718689, 'hard'),\n",
       " (0.999801754951477, 'democratic'),\n",
       " (0.9998009204864502, 'familiar'),\n",
       " (0.9997973442077637, 'harvard'),\n",
       " (0.9997968673706055, 'democracy'),\n",
       " (0.999796450138092, 'factor')]"
      ]
     },
     "execution_count": 40,
     "metadata": {},
     "output_type": "execute_result"
    }
   ],
   "source": [
    "model.get_nearest_neighbors(\"asian\")"
   ]
  },
  {
   "cell_type": "code",
   "execution_count": 54,
   "id": "outdoor-cream",
   "metadata": {},
   "outputs": [],
   "source": [
    "new_model = fasttext.train_unsupervised(\"train.txt\", \"cbow\", lr=0.05, epoch=500)"
   ]
  },
  {
   "cell_type": "code",
   "execution_count": 55,
   "id": "covered-bearing",
   "metadata": {},
   "outputs": [
    {
     "data": {
      "text/plain": [
       "[(0.5153183341026306, 'trip'),\n",
       " (0.3442321717739105, 'phase'),\n",
       " (0.34157735109329224, 'chile'),\n",
       " (0.3285171091556549, 'likely'),\n",
       " (0.3213077485561371, 'facility'),\n",
       " (0.318682461977005, 'ship'),\n",
       " (0.2958216667175293, 'summer'),\n",
       " (0.2920197546482086, 'smoke'),\n",
       " (0.27656933665275574, 'volunteer'),\n",
       " (0.2675592005252838, 'rover')]"
      ]
     },
     "execution_count": 55,
     "metadata": {},
     "output_type": "execute_result"
    }
   ],
   "source": [
    "new_model.get_nearest_neighbors(\"philip\")"
   ]
  },
  {
   "cell_type": "code",
   "execution_count": null,
   "id": "handmade-likelihood",
   "metadata": {},
   "outputs": [],
   "source": []
  },
  {
   "cell_type": "code",
   "execution_count": 1,
   "id": "equipped-andorra",
   "metadata": {},
   "outputs": [],
   "source": [
    "import spacy"
   ]
  },
  {
   "cell_type": "code",
   "execution_count": 2,
   "id": "distributed-length",
   "metadata": {},
   "outputs": [],
   "source": [
    "NLP = spacy.load(\"en_core_web_lg\")"
   ]
  },
  {
   "cell_type": "code",
   "execution_count": 9,
   "id": "subsequent-render",
   "metadata": {},
   "outputs": [],
   "source": [
    "text = \"asian united states trump biden crime rasicm msnbc\""
   ]
  },
  {
   "cell_type": "code",
   "execution_count": 10,
   "id": "indian-theme",
   "metadata": {},
   "outputs": [],
   "source": [
    "target_doc = NLP(text)"
   ]
  },
  {
   "cell_type": "code",
   "execution_count": 11,
   "id": "threatened-fellow",
   "metadata": {},
   "outputs": [
    {
     "name": "stdout",
     "output_type": "stream",
     "text": [
      "doc asian united states Trump Biden crime rasicm msnbc\n",
      "ents [('asian', 'NORP'), ('Biden', 'PERSON'), ('msnbc', 'ORG')]\n"
     ]
    }
   ],
   "source": [
    "target_doc = NLP(text)\n",
    "target_entities = [(X.text, X.label_) for X in target_doc.ents]\n",
    "\n",
    "print(\"doc\", target_doc)\n",
    "print(\"ents\", target_entities)"
   ]
  },
  {
   "cell_type": "code",
   "execution_count": null,
   "id": "incorporated-profile",
   "metadata": {},
   "outputs": [],
   "source": []
  },
  {
   "cell_type": "code",
   "execution_count": null,
   "id": "impaired-remedy",
   "metadata": {},
   "outputs": [],
   "source": []
  },
  {
   "cell_type": "code",
   "execution_count": null,
   "id": "danish-breakdown",
   "metadata": {},
   "outputs": [],
   "source": []
  },
  {
   "cell_type": "code",
   "execution_count": null,
   "id": "bulgarian-locking",
   "metadata": {},
   "outputs": [],
   "source": []
  },
  {
   "cell_type": "code",
   "execution_count": null,
   "id": "preceding-action",
   "metadata": {},
   "outputs": [],
   "source": []
  },
  {
   "cell_type": "code",
   "execution_count": null,
   "id": "adapted-saudi",
   "metadata": {},
   "outputs": [],
   "source": []
  },
  {
   "cell_type": "code",
   "execution_count": 5,
   "id": "starting-girlfriend",
   "metadata": {},
   "outputs": [],
   "source": [
    "import re"
   ]
  },
  {
   "cell_type": "code",
   "execution_count": null,
   "id": "imposed-deviation",
   "metadata": {},
   "outputs": [],
   "source": []
  },
  {
   "cell_type": "code",
   "execution_count": null,
   "id": "judicial-anthony",
   "metadata": {},
   "outputs": [],
   "source": []
  },
  {
   "cell_type": "code",
   "execution_count": null,
   "id": "precious-tracy",
   "metadata": {},
   "outputs": [],
   "source": []
  },
  {
   "cell_type": "code",
   "execution_count": null,
   "id": "concrete-sailing",
   "metadata": {},
   "outputs": [],
   "source": []
  },
  {
   "cell_type": "code",
   "execution_count": null,
   "id": "equivalent-makeup",
   "metadata": {},
   "outputs": [],
   "source": []
  },
  {
   "cell_type": "code",
   "execution_count": 6,
   "id": "posted-values",
   "metadata": {},
   "outputs": [],
   "source": [
    "test_input = df.iloc[0].cleaned_important_text"
   ]
  },
  {
   "cell_type": "code",
   "execution_count": 7,
   "id": "agricultural-mount",
   "metadata": {},
   "outputs": [
    {
     "data": {
      "text/plain": [
       "'triple decker 21st century airtight solar power stand level house somerville lena sheehan look construction new high school transportation hub block away \\n\\n long say new t brilliant right house \\n\\n immigrate ireland early 90 sheehan husband buy property school street 1998 advice friend \\n\\n crazy idea somerville place say'"
      ]
     },
     "execution_count": 7,
     "metadata": {},
     "output_type": "execute_result"
    }
   ],
   "source": [
    "test_input"
   ]
  },
  {
   "cell_type": "code",
   "execution_count": 8,
   "id": "amateur-throat",
   "metadata": {},
   "outputs": [],
   "source": [
    "test_input = re.sub(\"\\n\", \"\", test_input)\n",
    "test_input = re.sub(\"\\t\", \"\", test_input)"
   ]
  },
  {
   "cell_type": "code",
   "execution_count": 9,
   "id": "piano-determination",
   "metadata": {},
   "outputs": [
    {
     "data": {
      "text/plain": [
       "'triple decker 21st century airtight solar power stand level house somerville lena sheehan look construction new high school transportation hub block away long say new t brilliant right house immigrate ireland early 90 sheehan husband buy property school street 1998 advice friend crazy idea somerville place say'"
      ]
     },
     "execution_count": 9,
     "metadata": {},
     "output_type": "execute_result"
    }
   ],
   "source": [
    "\" \".join(test_input.split())"
   ]
  },
  {
   "cell_type": "code",
   "execution_count": 10,
   "id": "improved-driver",
   "metadata": {},
   "outputs": [],
   "source": [
    "def remove_spaces(text):\n",
    "    text = re.sub(\"\\n\", \"\", text)\n",
    "    text = re.sub(\"\\t\", \"\", text)\n",
    "    text = \" \".join(text.split())\n",
    "    return text"
   ]
  },
  {
   "cell_type": "code",
   "execution_count": 11,
   "id": "generic-baptist",
   "metadata": {},
   "outputs": [],
   "source": [
    "df[\"cleaned_important_text\"] = df.cleaned_important_text.apply(remove_spaces)"
   ]
  },
  {
   "cell_type": "code",
   "execution_count": 12,
   "id": "hollywood-invasion",
   "metadata": {},
   "outputs": [],
   "source": [
    "df.to_csv(\"resources/cleaned_data_bert.csv\")"
   ]
  },
  {
   "cell_type": "code",
   "execution_count": 13,
   "id": "upset-blanket",
   "metadata": {},
   "outputs": [],
   "source": [
    "cached = pd.DataFrame(df[\"cleaned_important_text\"])"
   ]
  },
  {
   "cell_type": "code",
   "execution_count": 15,
   "id": "charitable-cargo",
   "metadata": {},
   "outputs": [],
   "source": [
    "cached.reset_index(drop=True, inplace=True)"
   ]
  },
  {
   "cell_type": "code",
   "execution_count": 17,
   "id": "blond-roberts",
   "metadata": {},
   "outputs": [],
   "source": [
    "np.savetxt('./resources/train.txt', cached.values, fmt=\"%s\")"
   ]
  },
  {
   "cell_type": "code",
   "execution_count": 18,
   "id": "consistent-buddy",
   "metadata": {},
   "outputs": [],
   "source": [
    "import fasttext"
   ]
  },
  {
   "cell_type": "code",
   "execution_count": 19,
   "id": "tender-beads",
   "metadata": {},
   "outputs": [],
   "source": [
    "model = fasttext.train_unsupervised('./resources/train.txt')"
   ]
  },
  {
   "cell_type": "code",
   "execution_count": 20,
   "id": "julian-mumbai",
   "metadata": {},
   "outputs": [],
   "source": [
    "model.save_model(\"./resources/model.bin\")"
   ]
  },
  {
   "cell_type": "code",
   "execution_count": 33,
   "id": "metallic-business",
   "metadata": {},
   "outputs": [],
   "source": [
    "def get_mean_embedding(text):\n",
    "    emb = np.mean([model.get_word_vector(word) for word in text.split()], axis=0)\n",
    "    return emb\n",
    "\n",
    "def calculate_embeddings():\n",
    "    if model is None:\n",
    "        self.__logger.error(\"Need to train model first\")\n",
    "        return\n",
    "\n",
    "    df[\"fasttext_embedding\"] = df.cleaned_important_text.apply(lambda text: get_mean_embedding(str(text)))\n",
    "\n",
    "    df.to_pickle('./resources/cleaned_data_fasttext.pickle')\n",
    "    return df"
   ]
  },
  {
   "cell_type": "code",
   "execution_count": 34,
   "id": "protected-norwegian",
   "metadata": {},
   "outputs": [],
   "source": [
    "test = calculate_embeddings()"
   ]
  },
  {
   "cell_type": "code",
   "execution_count": 36,
   "id": "complex-queensland",
   "metadata": {},
   "outputs": [
    {
     "data": {
      "text/plain": [
       "'triple decker 21st century airtight solar power stand level house somerville lena sheehan look construction new high school transportation hub block away  long say new t brilliant right house  immigrate ireland early 90 sheehan husband buy property school street 1998 advice friend  crazy idea somerville place say'"
      ]
     },
     "execution_count": 36,
     "metadata": {},
     "output_type": "execute_result"
    }
   ],
   "source": [
    "test_input"
   ]
  },
  {
   "cell_type": "code",
   "execution_count": 39,
   "id": "indian-dress",
   "metadata": {},
   "outputs": [
    {
     "data": {
      "text/plain": [
       "[(0.8565452694892883, 'shipwreck'),\n",
       " (0.8223105072975159, 'nike'),\n",
       " (0.8194195032119751, 'suzhou'),\n",
       " (0.8192678689956665, 'subway'),\n",
       " (0.8159365653991699, 'fireball'),\n",
       " (0.8148849010467529, 'nickel'),\n",
       " (0.813416063785553, 'ddt'),\n",
       " (0.8080143332481384, 'supernova'),\n",
       " (0.8031246662139893, 'nile'),\n",
       " (0.8000850677490234, 'sunny')]"
      ]
     },
     "execution_count": 39,
     "metadata": {},
     "output_type": "execute_result"
    }
   ],
   "source": [
    "model.get_nearest_neighbors(\"suez\")"
   ]
  },
  {
   "cell_type": "code",
   "execution_count": 32,
   "id": "manufactured-granny",
   "metadata": {},
   "outputs": [
    {
     "data": {
      "text/html": [
       "<div>\n",
       "<style scoped>\n",
       "    .dataframe tbody tr th:only-of-type {\n",
       "        vertical-align: middle;\n",
       "    }\n",
       "\n",
       "    .dataframe tbody tr th {\n",
       "        vertical-align: top;\n",
       "    }\n",
       "\n",
       "    .dataframe thead th {\n",
       "        text-align: right;\n",
       "    }\n",
       "</style>\n",
       "<table border=\"1\" class=\"dataframe\">\n",
       "  <thead>\n",
       "    <tr style=\"text-align: right;\">\n",
       "      <th></th>\n",
       "      <th>url</th>\n",
       "      <th>cleaned_important_text</th>\n",
       "      <th>embedding</th>\n",
       "      <th>publish_datetime</th>\n",
       "      <th>polarity</th>\n",
       "      <th>subjectivity</th>\n",
       "      <th>bert_embedding</th>\n",
       "      <th>fasttext_embedding</th>\n",
       "    </tr>\n",
       "  </thead>\n",
       "  <tbody>\n",
       "    <tr>\n",
       "      <th>0</th>\n",
       "      <td>https://www.wbur.org/earthwhile/2021/03/12/tri...</td>\n",
       "      <td>triple decker 21st century airtight solar powe...</td>\n",
       "      <td>[-0.012675878591835499, 0.232682004570961, -0....</td>\n",
       "      <td>2021-03-21T22:04:29.000Z</td>\n",
       "      <td>Neutral</td>\n",
       "      <td>Very objective</td>\n",
       "      <td>tensor([[ 0.7663,  1.2018, -0.0192,  ..., -0.3...</td>\n",
       "      <td>[0.20896038, -0.03249417, -0.046633776, 0.1013...</td>\n",
       "    </tr>\n",
       "    <tr>\n",
       "      <th>1</th>\n",
       "      <td>https://www.forbes.com/sites/edwardsegal/2021/...</td>\n",
       "      <td>covid continue employee remain concerned retur...</td>\n",
       "      <td>[-0.08585719019174576, 0.21065688133239746, 0....</td>\n",
       "      <td>2021-03-21T11:00:07.000Z</td>\n",
       "      <td>Positive</td>\n",
       "      <td>Neutral</td>\n",
       "      <td>tensor([[ 0.9921, -0.1721, -0.7232,  ..., -0.2...</td>\n",
       "      <td>[0.21479964, 0.06367354, -0.044154134, 0.14962...</td>\n",
       "    </tr>\n",
       "    <tr>\n",
       "      <th>2</th>\n",
       "      <td>https://slate.com/technology/2021/03/japanese-...</td>\n",
       "      <td>non english edition wikipedia misinformation p...</td>\n",
       "      <td>[-0.15740007162094116, 0.06153416261076927, 0....</td>\n",
       "      <td>2021-03-21T17:19:38.000Z</td>\n",
       "      <td>Neutral</td>\n",
       "      <td>Very objective</td>\n",
       "      <td>tensor([[ 0.5851,  0.7159,  0.0848,  ...,  1.2...</td>\n",
       "      <td>[0.13818005, 0.073198095, -0.038398672, 0.0972...</td>\n",
       "    </tr>\n",
       "    <tr>\n",
       "      <th>3</th>\n",
       "      <td>https://abc7news.com/10434159/?ex_cid=TA_KGO_T...</td>\n",
       "      <td>woman likely experience effect covid-19 vaccin...</td>\n",
       "      <td>[-0.14862942695617676, 0.20998084545135498, -0...</td>\n",
       "      <td>2021-03-21T07:45:02.000Z</td>\n",
       "      <td>Neutral</td>\n",
       "      <td>Subjective</td>\n",
       "      <td>tensor([[ 0.5773, -0.4211, -1.1366,  ..., -0.0...</td>\n",
       "      <td>[0.14626163, 0.13944134, -0.13908085, 0.058073...</td>\n",
       "    </tr>\n",
       "    <tr>\n",
       "      <th>4</th>\n",
       "      <td>https://www.cbsnews.com/news/iceland-volcano-f...</td>\n",
       "      <td>volcano dormant 6,000 year erupt iceland icela...</td>\n",
       "      <td>[0.1105966717004776, -0.06708431988954544, 0.0...</td>\n",
       "      <td>2021-03-21T13:34:02.000Z</td>\n",
       "      <td>Neutral</td>\n",
       "      <td>Very objective</td>\n",
       "      <td>tensor([[ 0.2277, -0.7162, -0.9377,  ..., -1.4...</td>\n",
       "      <td>[0.18304849, 0.058092527, 0.047184613, 0.08407...</td>\n",
       "    </tr>\n",
       "    <tr>\n",
       "      <th>...</th>\n",
       "      <td>...</td>\n",
       "      <td>...</td>\n",
       "      <td>...</td>\n",
       "      <td>...</td>\n",
       "      <td>...</td>\n",
       "      <td>...</td>\n",
       "      <td>...</td>\n",
       "      <td>...</td>\n",
       "    </tr>\n",
       "    <tr>\n",
       "      <th>7635</th>\n",
       "      <td>https://www.nature.com/articles/d41586-021-008...</td>\n",
       "      <td>world learn covid dive pandemic treaty week 27...</td>\n",
       "      <td>[-0.1349020004272461, 0.047990813851356506, 0....</td>\n",
       "      <td>2021-04-06T15:03:42.000Z</td>\n",
       "      <td>Neutral</td>\n",
       "      <td>Very objective</td>\n",
       "      <td>tensor([[ 0.5842,  0.0834, -0.9654,  ...,  1.2...</td>\n",
       "      <td>[0.2034998, -0.06291013, 0.0001865788, 0.15545...</td>\n",
       "    </tr>\n",
       "    <tr>\n",
       "      <th>7636</th>\n",
       "      <td>https://www.bloomberg.com/news/articles/2021-0...</td>\n",
       "      <td>bitcoin mining operation china threaten climat...</td>\n",
       "      <td>[-0.1503271609544754, 0.21208292245864868, 0.1...</td>\n",
       "      <td>2021-04-06T16:34:05.000Z</td>\n",
       "      <td>Neutral</td>\n",
       "      <td>Very objective</td>\n",
       "      <td>tensor([[ 1.0149,  1.5701,  0.4140,  ...,  0.7...</td>\n",
       "      <td>[0.1323934, 0.060118645, 0.031312052, 0.213567...</td>\n",
       "    </tr>\n",
       "    <tr>\n",
       "      <th>7637</th>\n",
       "      <td>https://www.newstatesman.com/business/work/202...</td>\n",
       "      <td>mass remote working set uk employment skill cr...</td>\n",
       "      <td>[-0.1262105256319046, 0.10679781436920166, 0.0...</td>\n",
       "      <td>2021-04-06T17:45:05.000Z</td>\n",
       "      <td>Neutral</td>\n",
       "      <td>Objective</td>\n",
       "      <td>tensor([[ 1.0571,  0.1128, -0.2033,  ..., -0.3...</td>\n",
       "      <td>[0.17134072, 0.0293745, -0.09532484, 0.1025412...</td>\n",
       "    </tr>\n",
       "    <tr>\n",
       "      <th>7638</th>\n",
       "      <td>https://abc7ny.com/health/covid-updates-rise-i...</td>\n",
       "      <td>coronavirus vaccine update cdc say rise case v...</td>\n",
       "      <td>[-0.15127120912075043, 0.2799147367477417, 0.0...</td>\n",
       "      <td>2021-04-06T21:15:08.000Z</td>\n",
       "      <td>Neutral</td>\n",
       "      <td>Objective</td>\n",
       "      <td>tensor([[ 1.0091,  0.3105, -0.4188,  ...,  0.1...</td>\n",
       "      <td>[0.253463, -0.058295492, -0.2395827, 0.0012964...</td>\n",
       "    </tr>\n",
       "    <tr>\n",
       "      <th>7639</th>\n",
       "      <td>https://globalnews.ca/news/7736765/covid-canad...</td>\n",
       "      <td>u.s expert say canada miss chance fight p.1 co...</td>\n",
       "      <td>[-0.20706939697265625, 0.09301535040140152, 0....</td>\n",
       "      <td>2021-04-06T20:23:48.000Z</td>\n",
       "      <td>Neutral</td>\n",
       "      <td>Very objective</td>\n",
       "      <td>tensor([[ 0.0474,  1.1374, -0.0715,  ..., -0.4...</td>\n",
       "      <td>[0.18153387, -0.10759537, -0.12322502, 0.09189...</td>\n",
       "    </tr>\n",
       "  </tbody>\n",
       "</table>\n",
       "<p>7640 rows × 8 columns</p>\n",
       "</div>"
      ],
      "text/plain": [
       "                                                    url  \\\n",
       "0     https://www.wbur.org/earthwhile/2021/03/12/tri...   \n",
       "1     https://www.forbes.com/sites/edwardsegal/2021/...   \n",
       "2     https://slate.com/technology/2021/03/japanese-...   \n",
       "3     https://abc7news.com/10434159/?ex_cid=TA_KGO_T...   \n",
       "4     https://www.cbsnews.com/news/iceland-volcano-f...   \n",
       "...                                                 ...   \n",
       "7635  https://www.nature.com/articles/d41586-021-008...   \n",
       "7636  https://www.bloomberg.com/news/articles/2021-0...   \n",
       "7637  https://www.newstatesman.com/business/work/202...   \n",
       "7638  https://abc7ny.com/health/covid-updates-rise-i...   \n",
       "7639  https://globalnews.ca/news/7736765/covid-canad...   \n",
       "\n",
       "                                 cleaned_important_text  \\\n",
       "0     triple decker 21st century airtight solar powe...   \n",
       "1     covid continue employee remain concerned retur...   \n",
       "2     non english edition wikipedia misinformation p...   \n",
       "3     woman likely experience effect covid-19 vaccin...   \n",
       "4     volcano dormant 6,000 year erupt iceland icela...   \n",
       "...                                                 ...   \n",
       "7635  world learn covid dive pandemic treaty week 27...   \n",
       "7636  bitcoin mining operation china threaten climat...   \n",
       "7637  mass remote working set uk employment skill cr...   \n",
       "7638  coronavirus vaccine update cdc say rise case v...   \n",
       "7639  u.s expert say canada miss chance fight p.1 co...   \n",
       "\n",
       "                                              embedding  \\\n",
       "0     [-0.012675878591835499, 0.232682004570961, -0....   \n",
       "1     [-0.08585719019174576, 0.21065688133239746, 0....   \n",
       "2     [-0.15740007162094116, 0.06153416261076927, 0....   \n",
       "3     [-0.14862942695617676, 0.20998084545135498, -0...   \n",
       "4     [0.1105966717004776, -0.06708431988954544, 0.0...   \n",
       "...                                                 ...   \n",
       "7635  [-0.1349020004272461, 0.047990813851356506, 0....   \n",
       "7636  [-0.1503271609544754, 0.21208292245864868, 0.1...   \n",
       "7637  [-0.1262105256319046, 0.10679781436920166, 0.0...   \n",
       "7638  [-0.15127120912075043, 0.2799147367477417, 0.0...   \n",
       "7639  [-0.20706939697265625, 0.09301535040140152, 0....   \n",
       "\n",
       "              publish_datetime  polarity    subjectivity  \\\n",
       "0     2021-03-21T22:04:29.000Z   Neutral  Very objective   \n",
       "1     2021-03-21T11:00:07.000Z  Positive         Neutral   \n",
       "2     2021-03-21T17:19:38.000Z   Neutral  Very objective   \n",
       "3     2021-03-21T07:45:02.000Z   Neutral      Subjective   \n",
       "4     2021-03-21T13:34:02.000Z   Neutral  Very objective   \n",
       "...                        ...       ...             ...   \n",
       "7635  2021-04-06T15:03:42.000Z   Neutral  Very objective   \n",
       "7636  2021-04-06T16:34:05.000Z   Neutral  Very objective   \n",
       "7637  2021-04-06T17:45:05.000Z   Neutral       Objective   \n",
       "7638  2021-04-06T21:15:08.000Z   Neutral       Objective   \n",
       "7639  2021-04-06T20:23:48.000Z   Neutral  Very objective   \n",
       "\n",
       "                                         bert_embedding  \\\n",
       "0     tensor([[ 0.7663,  1.2018, -0.0192,  ..., -0.3...   \n",
       "1     tensor([[ 0.9921, -0.1721, -0.7232,  ..., -0.2...   \n",
       "2     tensor([[ 0.5851,  0.7159,  0.0848,  ...,  1.2...   \n",
       "3     tensor([[ 0.5773, -0.4211, -1.1366,  ..., -0.0...   \n",
       "4     tensor([[ 0.2277, -0.7162, -0.9377,  ..., -1.4...   \n",
       "...                                                 ...   \n",
       "7635  tensor([[ 0.5842,  0.0834, -0.9654,  ...,  1.2...   \n",
       "7636  tensor([[ 1.0149,  1.5701,  0.4140,  ...,  0.7...   \n",
       "7637  tensor([[ 1.0571,  0.1128, -0.2033,  ..., -0.3...   \n",
       "7638  tensor([[ 1.0091,  0.3105, -0.4188,  ...,  0.1...   \n",
       "7639  tensor([[ 0.0474,  1.1374, -0.0715,  ..., -0.4...   \n",
       "\n",
       "                                     fasttext_embedding  \n",
       "0     [0.20896038, -0.03249417, -0.046633776, 0.1013...  \n",
       "1     [0.21479964, 0.06367354, -0.044154134, 0.14962...  \n",
       "2     [0.13818005, 0.073198095, -0.038398672, 0.0972...  \n",
       "3     [0.14626163, 0.13944134, -0.13908085, 0.058073...  \n",
       "4     [0.18304849, 0.058092527, 0.047184613, 0.08407...  \n",
       "...                                                 ...  \n",
       "7635  [0.2034998, -0.06291013, 0.0001865788, 0.15545...  \n",
       "7636  [0.1323934, 0.060118645, 0.031312052, 0.213567...  \n",
       "7637  [0.17134072, 0.0293745, -0.09532484, 0.1025412...  \n",
       "7638  [0.253463, -0.058295492, -0.2395827, 0.0012964...  \n",
       "7639  [0.18153387, -0.10759537, -0.12322502, 0.09189...  \n",
       "\n",
       "[7640 rows x 8 columns]"
      ]
     },
     "execution_count": 32,
     "metadata": {},
     "output_type": "execute_result"
    }
   ],
   "source": [
    "test"
   ]
  },
  {
   "cell_type": "code",
   "execution_count": null,
   "id": "analyzed-intelligence",
   "metadata": {},
   "outputs": [],
   "source": []
  }
 ],
 "metadata": {
  "kernelspec": {
   "display_name": "Python 3",
   "language": "python",
   "name": "python3"
  },
  "language_info": {
   "codemirror_mode": {
    "name": "ipython",
    "version": 3
   },
   "file_extension": ".py",
   "mimetype": "text/x-python",
   "name": "python",
   "nbconvert_exporter": "python",
   "pygments_lexer": "ipython3",
   "version": "3.8.5"
  }
 },
 "nbformat": 4,
 "nbformat_minor": 5
}
